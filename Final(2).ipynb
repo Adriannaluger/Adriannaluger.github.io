{
 "cells": [
  {
   "cell_type": "markdown",
   "metadata": {},
   "source": [
    "### Project Description:\n",
    "This project will display a habitat suitability model for Sorghastrum nutans, which are a grass native to North America, that has moved northward in the past 5 decades. The changing of grasslands puts both biodiversity and human well-being in danger, as restoration is very difficult especially if access to native species seeds are unavailable. The model will be based on combining multiple data layers related to soil type, topography, and climate with a focus on the Thunder Basin National Grasslands. The result will show areas with ideal conditions for Sorghastrum nutans to survive in."
   ]
  },
  {
   "cell_type": "markdown",
   "metadata": {},
   "source": [
    "### Site Description: \n",
    "The Thunder Basin National Grassland is located in northeastern Wyoming in the Powder River Basin between the Big Horn Mountains and the Black Hills. The elevation ranges from 3,600 to 5,200 feet, and has a semi-arid climate. The Grassland is a space for recreation such as hiking, sightseeing, hunting, and fishing. There are no developed campgrounds in the area, but camping is allowed. Thunder Basin National Grassland is found along the transition zone, between the Great Plains and the sagebrush steppe. This leaves the area in a gradient zone of temperature, precipitation, and elevation. The Thunder Basin evolved with disturbance from drought, grazing, fire and burrowing mammals.\n",
    "\n",
    "    Wikimedia Foundation. (2023, February 15). Thunder Basin National Grassland. Wikipedia. https://en.wikipedia.org/wiki/Thunder_Basin_National_Grassland "
   ]
  },
  {
   "cell_type": "markdown",
   "metadata": {},
   "source": [
    "### Data Description: \n",
    "Soil data: Raster soil layer of sand from 15-30 m deep around the same latitudes and longitudes that were in my study site boundary, and from the 95th percentile. \n",
    "\n",
    "    Citation: Chaney, N. W., Minasny, B.,Herman, J. D., Nauman, T. W.,Brungard, C., Morgan, C. L. S., et al.(2019). POLARIS soil properties:30-m probabilistic maps of soilproperties over the contiguousUnited States.Water ResourcesResearch,55, 2916–2938.https://doi.org/10.1029/2018WR022797\n",
    "\n",
    "Elevation: Elevation raster layer was downloaded from NASA Shuttle Radar Topography Mission (SRTM) datasets, which displays digital elevation model (DEM) of the Earth using radar interferometry. SRTM was launched February 11, 2000 and ﬂew for 11 days, and was collected from ~30 degrees off-nadir to ~58 degrees off-nadir from an altitude of 233 kilometers (km). These swaths are ~225 km wide, and consisted of all land between 60° N and 56° S latitude. This accounts for about 80% of Earth’s total landmass.\n",
    "\n",
    "    NASA JPL (2013). <i>NASA Shuttle Radar Topography Mission Global 1 arc second</i> [Data set]. NASA EOSDIS Land Processes Distributed Active Archive Center. Accessed 2023-12-11 from https://doi.org/10.5067/MEaSUREs/SRTM/SRTMGL1.003\n",
    "\n",
    "Climate: The climate data was imported from Northwest Knowledge, with climate forcings in the MACAv2 being drawn from a statistical downscaling of global climate model (GCM) data from the Coupled Model Intercomparison Project 5. \n",
    "\n",
    "    Abatzoglou J.T. and Brown T.J. \"A comparison of statistical downscaling methods suited for wildfire applications \" International Journal of Climatology (2012),doi: 10.1002/joc.2312"
   ]
  },
  {
   "cell_type": "code",
   "execution_count": null,
   "metadata": {},
   "outputs": [],
   "source": [
    "# Import all necessary packages to complete assignment \n",
    "import os\n",
    "from glob import glob\n",
    "import zipfile\n",
    "\n",
    "import earthpy as et\n",
    "import earthpy.appeears as eaapp\n",
    "import earthpy.earthexplorer as etee\n",
    "import earthpy.spatial as es\n",
    "import earthpy.plot as ep\n",
    "import geopandas as gpd\n",
    "import geoviews as gv\n",
    "import hvplot.pandas\n",
    "import hvplot.xarray\n",
    "import numpy as np\n",
    "import matplotlib.pyplot as plt\n",
    "import pandas as pd\n",
    "import xarray as xr\n",
    "import xrspatial\n",
    "import requests\n",
    "import rioxarray as rxr\n",
    "from rioxarray.merge import merge_arrays"
   ]
  },
  {
   "cell_type": "code",
   "execution_count": null,
   "metadata": {},
   "outputs": [],
   "source": [
    "# Download the USFS National Grassland Units \n",
    "grass_shp_path = 'https://data.fs.usda.gov/geodata/edw/datasets.php'\n",
    "\n",
    "# Read the shapefile into a GeoDataFrame\n",
    "grassland_gdf = gpd.read_file('https://data.fs.usda.gov/geodata/edw/edw_resources/shp/S_USA.NationalGrassland.zip')\n",
    "grassland_gdf\n"
   ]
  },
  {
   "cell_type": "code",
   "execution_count": null,
   "metadata": {},
   "outputs": [],
   "source": [
    "# Select study site \n",
    "Thunder_gdf = grassland_gdf.set_index('GRASSLANDN').loc[['Thunder Basin National Grassland']]\n",
    "(Thunder_gdf)"
   ]
  },
  {
   "cell_type": "code",
   "execution_count": null,
   "metadata": {},
   "outputs": [],
   "source": [
    "#Downloading soil variable from the POLARIS dataset (sand)\n",
    "\n",
    "sand_path_la4344_lo105104 = 'http://hydrology.cee.duke.edu/POLARIS/PROPERTIES/v1.0/sand/p95/15_30/lat4344_lon-105-104.tif'\n",
    "sand_path_la4344_lo105104\n"
   ]
  },
  {
   "cell_type": "code",
   "execution_count": null,
   "metadata": {},
   "outputs": [],
   "source": [
    "# Open the soil data as data array\n",
    "sand_array_la4344_lo105104 = rxr.open_rasterio(sand_path_la4344_lo105104, masked=True).squeeze()\n",
    "sand_array_la4344_lo105104"
   ]
  },
  {
   "cell_type": "markdown",
   "metadata": {},
   "source": [
    "### Soil data 1\n",
    "This plot is displaying sand data in Thunder Basin National Park from latitudes 43-44 degrees and longitude of 104 to 105 degrees. We can see high percentages of sand along a stream which flows east to west in the middle of the image. "
   ]
  },
  {
   "cell_type": "code",
   "execution_count": null,
   "metadata": {},
   "outputs": [],
   "source": [
    "# Plotting the soil data tile 1\n",
    "ep.plot_bands(sand_array_la4344_lo105104, cmap='gist_earth_r')\n",
    "plt.show()"
   ]
  },
  {
   "cell_type": "markdown",
   "metadata": {},
   "source": [
    "### Thunder Basin National Park Boundary\n",
    "This plot below is displaying the Thunder Basin National Park. "
   ]
  },
  {
   "cell_type": "code",
   "execution_count": null,
   "metadata": {},
   "outputs": [],
   "source": [
    "# Plotting Thunder Basin National Park \n",
    "Thunder_gdf.plot()"
   ]
  },
  {
   "cell_type": "code",
   "execution_count": null,
   "metadata": {},
   "outputs": [],
   "source": [
    "# Finding coordinate systems\n",
    "print(Thunder_gdf.crs)\n",
    "\n",
    "print(sand_array_la4344_lo105104.rio.crs)"
   ]
  },
  {
   "cell_type": "code",
   "execution_count": null,
   "metadata": {},
   "outputs": [],
   "source": [
    "# Reprojection the thunder boundary to the soil coordinate system\n",
    "Thunder_gdf_4326 = Thunder_gdf.to_crs(sand_array_la4344_lo105104.rio.crs)\n",
    "print('The new crs for Thunder Basin is:', Thunder_gdf_4326.crs)\n"
   ]
  },
  {
   "cell_type": "markdown",
   "metadata": {},
   "source": [
    "### Soil & Study Site Figure 1\n",
    "This figure is showing both raster and vector data from 43-44 degree latitude and 104-105 degree longitude. We can see both the Thunder Basin National Park and high/low levels of sand in the area."
   ]
  },
  {
   "cell_type": "code",
   "execution_count": null,
   "metadata": {},
   "outputs": [],
   "source": [
    "# Plotting raster and vector data together for tile 1\n",
    "fig, ax = plt.subplots()\n",
    "sand_array_la4344_lo105104.plot(ax=ax, cmap='terrain_r')\n",
    "Thunder_gdf_4326.plot(ax=ax, edgecolor='blue', linewidth=1)\n",
    "ax.set(title='Raster and vector data from lat 43-44 and long 104-105')\n",
    "plt.show()"
   ]
  },
  {
   "cell_type": "code",
   "execution_count": null,
   "metadata": {},
   "outputs": [],
   "source": [
    "# Downloading data for soil tile 2\n",
    "sand_path_la4344_lo106105 = 'http://hydrology.cee.duke.edu/POLARIS/PROPERTIES/v1.0/sand/p95/15_30/lat4344_lon-106-105.tif'\n",
    "sand_path_la4344_lo106105"
   ]
  },
  {
   "cell_type": "code",
   "execution_count": null,
   "metadata": {},
   "outputs": [],
   "source": [
    "# Opening data for tile 2\n",
    "sand_array_la4344_lo106105 = rxr.open_rasterio(sand_path_la4344_lo106105, masked=True).squeeze()\n",
    "sand_array_la4344_lo106105"
   ]
  },
  {
   "cell_type": "markdown",
   "metadata": {},
   "source": [
    "### Soil data 2\n",
    "This plot is displaying sand data in Thunder Basin National Park from latitudes 43-44 degrees and longitude of 105 to 106 degrees. We can see high percentages of sand along a stream which flows east to west in the middle of the image. "
   ]
  },
  {
   "cell_type": "code",
   "execution_count": null,
   "metadata": {},
   "outputs": [],
   "source": [
    "# Opening and plotting the soil data for tile 2\n",
    "ep.plot_bands(sand_array_la4344_lo105104, cmap='gist_earth_r')\n",
    "plt.show()"
   ]
  },
  {
   "cell_type": "markdown",
   "metadata": {},
   "source": [
    "### Soil & Study Site Figure 2\n",
    "This figure is showing both raster and vector data from 43-44 degree latitude and 105-106 degree longitude. We can see both the Thunder Basin National Park and high/low levels of sand distribution in the area."
   ]
  },
  {
   "cell_type": "code",
   "execution_count": null,
   "metadata": {},
   "outputs": [],
   "source": [
    "# Plotting raster and vector data together for tile 2\n",
    "fig, ax = plt.subplots()\n",
    "sand_array_la4344_lo106105.plot(ax=ax, cmap='terrain_r')\n",
    "Thunder_gdf_4326.plot(ax=ax, edgecolor='blue', linewidth=1)\n",
    "ax.set(title='Raster and vector data from lat 43-44 and long 105-106')\n",
    "plt.show()"
   ]
  },
  {
   "cell_type": "code",
   "execution_count": null,
   "metadata": {},
   "outputs": [],
   "source": [
    "# Downloading data for tile 3\n",
    "sand_path_la4445_lo106105 = 'http://hydrology.cee.duke.edu/POLARIS/PROPERTIES/v1.0/sand/p95/15_30/lat4445_lon-106-105.tif'\n",
    "sand_path_la4445_lo106105"
   ]
  },
  {
   "cell_type": "code",
   "execution_count": null,
   "metadata": {},
   "outputs": [],
   "source": [
    "# Opening data for tile 3\n",
    "sand_array_la4445_lo106105 = rxr.open_rasterio(sand_path_la4344_lo106105, masked=True).squeeze()\n",
    "sand_array_la4445_lo106105"
   ]
  },
  {
   "cell_type": "markdown",
   "metadata": {},
   "source": [
    "### Soil data 3\n",
    "This plot is displaying sand data in Thunder Basin National Park from latitudes 44-45 degrees and longitude of 105 to 106 degrees. We can see high percentages of sand in small veins in the bottom left side of the image and very low percentages in the top right areas. "
   ]
  },
  {
   "cell_type": "code",
   "execution_count": null,
   "metadata": {},
   "outputs": [],
   "source": [
    "# Opening and plotting the soil data for tile 3\n",
    "ep.plot_bands(sand_array_la4445_lo106105, cmap='gist_earth_r')\n",
    "plt.show()"
   ]
  },
  {
   "cell_type": "markdown",
   "metadata": {},
   "source": [
    "### Soil & Study Site Figure 3\n",
    "This figure is showing both raster and vector data from 44-45 degree latitude and 105-106 degree longitude. We can see both the Thunder Basin National Park and high/low levels of sand distribution in the area."
   ]
  },
  {
   "cell_type": "code",
   "execution_count": null,
   "metadata": {},
   "outputs": [],
   "source": [
    "# Plotting raster and vector data together for tile 3 \n",
    "fig, ax = plt.subplots()\n",
    "sand_array_la4445_lo106105.plot(ax=ax, cmap='terrain_r')\n",
    "Thunder_gdf_4326.plot(ax=ax, edgecolor='blue', linewidth=1)\n",
    "ax.set(title='Raster and vector data from lat 44-45 and long 105-106')\n",
    "plt.show()"
   ]
  },
  {
   "cell_type": "code",
   "execution_count": null,
   "metadata": {},
   "outputs": [],
   "source": [
    "# Merging raster tiles together (tiles 1-3)\n",
    "from rioxarray.merge import merge_arrays\n",
    "merged_sand_raster = merge_arrays(\n",
    "    dataarrays = [sand_array_la4344_lo105104, sand_array_la4344_lo106105, sand_array_la4445_lo106105], crs='EPSG:4326')\n",
    "\n",
    "merged_sand_raster"
   ]
  },
  {
   "cell_type": "markdown",
   "metadata": {},
   "source": [
    "### Merged Diagram of all Three Soil Rasters \n",
    "This image is showing all three soil rasters together so we can see a whole picture of soil (sand)percentages throughout the entire Thunder Basin National Park. "
   ]
  },
  {
   "cell_type": "code",
   "execution_count": null,
   "metadata": {},
   "outputs": [],
   "source": [
    "# Plotting merged arrays with the boundary included \n",
    "fig, ax = plt.subplots()\n",
    "merged_sand_raster.plot(ax=ax, cmap='terrain_r')\n",
    "Thunder_gdf_4326.plot(ax=ax, edgecolor='blue', linewidth=1)\n",
    "ax.set(title='Merged sand rasters')\n",
    "plt.show()"
   ]
  },
  {
   "cell_type": "code",
   "execution_count": null,
   "metadata": {},
   "outputs": [],
   "source": [
    "# Download elevation data (srtm)\n",
    "thunder_basin_gdf = (\n",
    "    grassland_gdf\n",
    "    .set_index('GRASSLANDN')\n",
    "    .loc[['Thunder Basin National Grassland']]\n",
    ")\n",
    "download_key='Thunder-Basin-SRTM'\n",
    "srtm_downloader = eaapp.AppeearsDownloader(\n",
    "    download_key=download_key,\n",
    "    product='SRTMGL1_NC.003',\n",
    "    layer='SRTMGL1_DEM',\n",
    "    start_date='02-11-2000',\n",
    "    end_date='02-21-2000',\n",
    "    polygon=thunder_basin_gdf)\n",
    "srtm_downloader.download_files()"
   ]
  },
  {
   "cell_type": "code",
   "execution_count": null,
   "metadata": {},
   "outputs": [],
   "source": [
    "# Opening srtm data as data array\n",
    "srtm_path = glob(\n",
    "    os.path.join(\n",
    "        srtm_downloader.data_dir, \n",
    "        'SRTMGL1_NC.003*',\n",
    "        '*.tif')\n",
    ")\n",
    "srtm_opened_data = [rxr.open_rasterio(srtm_path, masked=True).squeeze() for srtm_path in srtm_path][0]"
   ]
  },
  {
   "cell_type": "code",
   "execution_count": null,
   "metadata": {},
   "outputs": [],
   "source": [
    "doy_start = -19\n",
    "doy_end = -12\n",
    "scale_factor = 1\n",
    "\n",
    "srtm_da_list = []\n",
    "for srtm_path in srtm_path:\n",
    "    # Get date from file name\n",
    "    doy = srtm_path[doy_start:doy_end]\n",
    "    date = pd.to_datetime(doy, format='%Y%j')\n",
    "\n",
    "    # Open dataset\n",
    "    da = rxr.open_rasterio(srtm_path, masked=True).squeeze()\n",
    "\n",
    "    # Prepare to concatenate: Add date dimension and clean up metadata\n",
    "    da = da.assign_coords({'date': date})\n",
    "    da = da.expand_dims({'date': 1})\n",
    "    da.name = 'SRTM'\n",
    "\n",
    "    # Divide by scale factor\n",
    "    da = da / scale_factor\n",
    "\n",
    "    # Add the DataArray to the end of the accumulator list\n",
    "    srtm_da_list.append(da)\n",
    "\n",
    "srtm_da_list"
   ]
  },
  {
   "cell_type": "markdown",
   "metadata": {},
   "source": [
    "### SRTM elevation diagram\n",
    "The diagram below displays the varying elevations throughout the Thunder Basin National Grasslands. "
   ]
  },
  {
   "cell_type": "code",
   "execution_count": null,
   "metadata": {},
   "outputs": [],
   "source": [
    "# Plotting srtm data with boundary\n",
    "fig, ax = plt.subplots(figsize=(8,6))\n",
    "srtm_da_list[0].plot(cmap=plt.cm.terrain,robust=True,ax=ax)\n",
    "Thunder_gdf_4326.boundary.plot(ax=ax,color='black')\n",
    "plt.show()"
   ]
  },
  {
   "cell_type": "code",
   "execution_count": null,
   "metadata": {},
   "outputs": [],
   "source": [
    "# Downloading and opening climate data\n",
    "maca_url = (\n",
    "    \"http://thredds.northwestknowledge.net:8080/thredds/ncss/agg_\"\n",
    "    \"macav2metdata_pr_CCSM4_r6i1p1_historical_1950_2005_CONUS_monthly.nc\"\n",
    "    \"?var=precipitation&disableLLSubset=on&disableProjSubset=on&horizStr\"\n",
    "    \"ide=1&time_start=1950-01-15T00%3A00%3A00Z&time_end=2005-12-15T00%3A0\"\n",
    "    \"0%3A00Z&timeStride=1&accept=netcdf\"\n",
    ")\n",
    "\n",
    "maca_response = requests.get(maca_url)\n",
    "\n",
    "with open('maca.nc', 'wb') as maca_file:\n",
    "    maca_file.write(maca_response.content)\n"
   ]
  },
  {
   "cell_type": "markdown",
   "metadata": {},
   "source": [
    "### Precipitation data across the United States\n",
    "The diagram shows precipitation data for all states in the U.S along with a boundary for our study site. "
   ]
  },
  {
   "cell_type": "code",
   "execution_count": null,
   "metadata": {},
   "outputs": [],
   "source": [
    "# Changed elevatins longitude to be in range w other datasets \n",
    "maca_ds = xr.open_dataset('maca.nc')\n",
    "maca_ds = maca_ds.assign_coords(lon=maca_ds.lon-360)\n",
    "# Pulled out precip\n",
    "precip_da = maca_ds.precipitation\n",
    "precip_da.rio.write_crs(\"epsg:4326\", inplace=True)\n",
    "# Enabling clipping action to go through\n",
    "precip_da.rio.set_spatial_dims('lon', 'lat', inplace=True)\n",
    "\n",
    "precip_da.mean('time').hvplot(rasterize=True) * thunder_basin_gdf.hvplot()"
   ]
  },
  {
   "cell_type": "code",
   "execution_count": null,
   "metadata": {},
   "outputs": [],
   "source": [
    "# Displaying precipitation data array\n",
    "precip_da"
   ]
  },
  {
   "cell_type": "markdown",
   "metadata": {},
   "source": [
    "### Precipitation in the Thunder Basin National Grassland\n",
    "This raster diagram shows precipitation levels for only our study site. "
   ]
  },
  {
   "cell_type": "code",
   "execution_count": null,
   "metadata": {},
   "outputs": [],
   "source": [
    "# Plotting and clipping preciptation data to be in boundary \n",
    "precip_da_clip = precip_da.rio.clip_box(*thunder_basin_gdf.total_bounds).mean('time').hvplot()\n",
    "precip_da_clip"
   ]
  },
  {
   "cell_type": "code",
   "execution_count": null,
   "metadata": {},
   "outputs": [],
   "source": [
    "#Calculate aspect from the srtm data \n",
    "aspect_da = xrspatial.aspect(srtm_opened_data)\n",
    "aspect_da.hvplot()\n"
   ]
  },
  {
   "cell_type": "markdown",
   "metadata": {},
   "source": [
    "### Optimal soil conditions\n",
    "The diagram displays areas (yellow) where the soil type is ideal for Sorghastrum nutans."
   ]
  },
  {
   "cell_type": "code",
   "execution_count": null,
   "metadata": {},
   "outputs": [],
   "source": [
    "# Select sand values from array that exceed threshold; 1=possible indiangrass, 0=not possible\n",
    "sand_optimal_indiangrass = ((merged_sand_raster >= 0) & (merged_sand_raster <= 50))\n",
    "sand_optimal_indiangrass.plot()\n",
    "print(sand_optimal_indiangrass.shape)"
   ]
  },
  {
   "cell_type": "markdown",
   "metadata": {},
   "source": [
    "### Optimal climate conditions\n",
    "The diagram displays areas (yellow) where the precipitation levels are ideal for Sorghastrum nutans."
   ]
  },
  {
   "cell_type": "code",
   "execution_count": null,
   "metadata": {},
   "outputs": [],
   "source": [
    "# Select precipitation (cm) values from array that exceed threshold; 1=possible indiangrass, 0=not possible\n",
    "precip_optimal_indiangrass = ((precip_da_clip > 28) & (precip_da_clip < 114))\n",
    "precip_optimal_indiangrass.plot()\n",
    "print(precip_optimal_indiangrass.shape)"
   ]
  },
  {
   "cell_type": "markdown",
   "metadata": {},
   "source": [
    "### Optimal elevation \n",
    "The diagram displays areas (yellow) where the aspect is ideal for Sorghastrum nutans."
   ]
  },
  {
   "cell_type": "code",
   "execution_count": null,
   "metadata": {},
   "outputs": [],
   "source": [
    "# Select elevation (aspect-south facing) values from array that exceed threshold; 1=possible indiangrass, 0=not possible\n",
    "aspect_optimal_indiangrass = ((aspect_da >= 157.5) & (aspect_da <= 202.5))\n",
    "aspect_optimal_indiangrass.plot()\n",
    "print(aspect_optimal_indiangrass.shape)"
   ]
  },
  {
   "cell_type": "code",
   "execution_count": null,
   "metadata": {},
   "outputs": [],
   "source": [
    "# Harmonize your data - make sure that the grids for each of your layers match up\n",
    "\n",
    "xds_repr_match = xds.rio.reproject_match(xds_repr_match)\n"
   ]
  },
  {
   "cell_type": "markdown",
   "metadata": {},
   "source": [
    "### Habitat Suitability Model for Sorghastrum nutans: \n",
    "The model below displays areas where Sorghastrum nutans can and probably does exist. These are areas that meet the soil, precipitation, and apsect criteria that are ideal for the species. All of which is within the Thunder Basin National Grassland boundary as that was the focus area for the project. "
   ]
  },
  {
   "cell_type": "code",
   "execution_count": null,
   "metadata": {},
   "outputs": [],
   "source": [
    "# Built HSM by multiplying rasters together\n"
   ]
  }
 ],
 "metadata": {
  "kernelspec": {
   "display_name": "base",
   "language": "python",
   "name": "python3"
  },
  "language_info": {
   "codemirror_mode": {
    "name": "ipython",
    "version": 3
   },
   "file_extension": ".py",
   "mimetype": "text/x-python",
   "name": "python",
   "nbconvert_exporter": "python",
   "pygments_lexer": "ipython3",
   "version": "3.10.11"
  }
 },
 "nbformat": 4,
 "nbformat_minor": 2
}
